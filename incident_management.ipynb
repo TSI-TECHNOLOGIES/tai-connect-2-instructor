{
 "cells": [
  {
   "cell_type": "markdown",
   "id": "d2f9069b-65cc-427a-b223-53687ea8374f",
   "metadata": {},
   "source": [
    "## Incident Management"
   ]
  },
  {
   "cell_type": "code",
   "execution_count": 1,
   "id": "a26e040f-bc6c-4ac1-9ee0-a8c855ef5ade",
   "metadata": {},
   "outputs": [],
   "source": [
    "def send_reply(message: str):\n",
    "    print(f\"Sending reply: {message}\")"
   ]
  },
  {
   "cell_type": "code",
   "execution_count": 2,
   "id": "617715eb-9d38-4b45-b884-51cca6ed0fb5",
   "metadata": {},
   "outputs": [
    {
     "name": "stdout",
     "output_type": "stream",
     "text": [
      "1. Check the modem and router connections. 2. Restart the modem and router. 3. Contact the Internet Service Provider (ISP) for assistance if the issue persists.\n",
      "IncidentCategory.NETWORK_ISSUE\n",
      "0.9\n",
      "IncidentSeverity.HIGH\n"
     ]
    }
   ],
   "source": [
    "import instructor\n",
    "from pydantic import BaseModel, Field\n",
    "from openai import OpenAI\n",
    "from enum import Enum\n",
    "import json\n",
    "import instructor\n",
    "from pydantic import BeforeValidator\n",
    "from typing_extensions import Annotated\n",
    "from instructor import llm_validator\n",
    "\n",
    "\n",
    "# --------------------------------------------------------------\n",
    "# AI-Powered Incident Management System\n",
    "# --------------------------------------------------------------\n",
    "\n",
    "# Patch the OpenAI client\n",
    "client = instructor.from_openai(OpenAI())\n",
    "\n",
    "\n",
    "class IncidentCategory(str, Enum):\n",
    "    \"\"\"Enumeration of categories for reported incidents.\"\"\"\n",
    "\n",
    "    NETWORK_ISSUE = \"network_issue\"\n",
    "    SECURITY_BREACH = \"security_breach\"\n",
    "    HARDWARE_FAILURE = \"hardware_failure\"\n",
    "    SOFTWARE_BUG = \"software_bug\"\n",
    "\n",
    "\n",
    "class IncidentSeverity(str, Enum):\n",
    "    \"\"\"Enumeration of severity levels for incidents.\"\"\"\n",
    "\n",
    "    CRITICAL = \"critical\"\n",
    "    HIGH = \"high\"\n",
    "    MEDIUM = \"medium\"\n",
    "    LOW = \"low\"\n",
    "\n",
    "\n",
    "class IncidentReport(BaseModel):\n",
    "    resolution_steps: str = Field(description=\"Suggested steps to resolve the incident.\")\n",
    "    category: IncidentCategory\n",
    "    confidence: float = Field(ge=0, le=1, description=\"Confidence score of the classification.\")\n",
    "    severity: IncidentSeverity\n",
    "\n",
    "\n",
    "def process_incident(report: str) -> IncidentReport:\n",
    "    \"\"\"Processes an incident report and returns a structured response.\"\"\"\n",
    "    reply = client.chat.completions.create(\n",
    "        model=\"gpt-3.5-turbo\",\n",
    "        response_model=IncidentReport,\n",
    "        max_retries=3,\n",
    "        messages=[\n",
    "            {\n",
    "                \"role\": \"system\",\n",
    "                \"content\": \"Classify the incident into a category and severity level, and provide resolution steps.\",\n",
    "            },\n",
    "            {\"role\": \"user\", \"content\": report},\n",
    "        ],\n",
    "    )\n",
    "    return reply\n",
    "\n",
    "\n",
    "# --------------------------------------------------------------\n",
    "# Example: Network Outage Issue\n",
    "# --------------------------------------------------------------\n",
    "\n",
    "incident = process_incident(\n",
    "    \"Our office internet is down, and we can't access any online services. Please investigate!\"\n",
    ")\n",
    "# assert incident.category == IncidentCategory.NETWORK_ISSUE\n",
    "\n",
    "print(incident.resolution_steps)\n",
    "print(incident.category)\n",
    "print(incident.confidence)\n",
    "print(incident.severity)\n",
    "\n"
   ]
  },
  {
   "cell_type": "code",
   "execution_count": 3,
   "id": "f9828fa3-7e91-420c-9861-af91322fcda9",
   "metadata": {
    "scrolled": true
   },
   "outputs": [
    {
     "name": "stdout",
     "output_type": "stream",
     "text": [
      "Immediately block access to the affected database, change all passwords and access keys, conduct a thorough investigation to determine the extent of the breach, notify relevant authorities and affected users, and implement additional security measures to prevent future breaches.\n",
      "IncidentCategory.SECURITY_BREACH\n",
      "0.9\n",
      "IncidentSeverity.CRITICAL\n"
     ]
    }
   ],
   "source": [
    "# --------------------------------------------------------------\n",
    "# Example: Security Breach Report\n",
    "# --------------------------------------------------------------\n",
    "\n",
    "incident = process_incident(\n",
    "    \"We detected unauthorized access to our database. What actions should we take?\"\n",
    ")\n",
    "# assert incident.category == IncidentCategory.SECURITY_BREACH\n",
    "\n",
    "print(incident.resolution_steps)\n",
    "print(incident.category)\n",
    "print(incident.confidence)\n",
    "print(incident.severity)"
   ]
  },
  {
   "cell_type": "markdown",
   "id": "db0831b2-2c46-4637-91fa-839a0c058b35",
   "metadata": {},
   "source": [
    "## Airline Support"
   ]
  },
  {
   "cell_type": "code",
   "execution_count": 4,
   "id": "45422add-a3c3-4124-b8ca-b889aacf3d12",
   "metadata": {},
   "outputs": [
    {
     "name": "stdout",
     "output_type": "stream",
     "text": [
      "explanation='The flight was delayed due to a technical issue with the aircraft.' delay_reason=<DelayReason.TECHNICAL_ISSUE: 'technical_issue'> compensation_eligible=True compensation_amount=600.0\n"
     ]
    }
   ],
   "source": [
    "import instructor\n",
    "from pydantic import BaseModel, Field\n",
    "from openai import OpenAI\n",
    "from enum import Enum\n",
    "\n",
    "# Initialize OpenAI with Instructor\n",
    "client = instructor.from_openai(OpenAI())\n",
    "\n",
    "# Example passenger query\n",
    "passenger_query = \"\"\"\n",
    "My flight from JFK (New York) to LHR (London) was delayed by 4 hours due to my technical issue. \n",
    "Am I eligible for compensation?\n",
    "\"\"\"\n",
    "\n",
    "# Enum for standardized delay reasons\n",
    "class DelayReason(str, Enum):\n",
    "    \"\"\"Possible airline delay reasons.\"\"\"\n",
    "    WEATHER = \"weather\"\n",
    "    TECHNICAL_ISSUE = \"technical_issue\"\n",
    "    AIR_TRAFFIC_CONTROL = \"air_traffic_control\"\n",
    "    CREW_AVAILABILITY = \"crew_availability\"\n",
    "    OTHER = \"other\"\n",
    "\n",
    "# Compensation eligibility response model\n",
    "class FlightDelayResponse(BaseModel):\n",
    "    \"\"\"Validated AI-generated response for flight delay queries.\"\"\"\n",
    "    \n",
    "    explanation: str = Field(description=\"Explanation of the delay reason.\")\n",
    "    delay_reason: DelayReason\n",
    "    compensation_eligible: bool = Field(description=\"Whether the passenger is eligible for compensation.\")\n",
    "    compensation_amount: float = Field(\n",
    "        ge=0, description=\"Amount of compensation (in USD) if eligible.\"\n",
    "    )\n",
    "\n",
    "# AI Call with Output Validation\n",
    "reply = client.chat.completions.create(\n",
    "    model=\"gpt-4-turbo\",\n",
    "    response_model=FlightDelayResponse,\n",
    "    max_retries=3,\n",
    "    messages=[\n",
    "        {\n",
    "            \"role\": \"system\",\n",
    "            \"content\": (\n",
    "                \"You are an AI assistant that explains flight delays and determines compensation eligibility.\"\n",
    "                \" The delay reason must be one of the predefined categories, and compensation eligibility\"\n",
    "                \" should follow aviation regulations (e.g., EU261, DOT).\"\n",
    "            ),\n",
    "        },\n",
    "        {\"role\": \"user\", \"content\": passenger_query},\n",
    "    ],\n",
    ")\n",
    "\n",
    "print(reply)"
   ]
  },
  {
   "cell_type": "code",
   "execution_count": null,
   "id": "515d5ac7-60c6-4ac9-9839-2e533934d21e",
   "metadata": {},
   "outputs": [],
   "source": []
  },
  {
   "cell_type": "code",
   "execution_count": null,
   "id": "bc05d958-4e7a-49e6-b759-d67c1998f70a",
   "metadata": {},
   "outputs": [],
   "source": []
  }
 ],
 "metadata": {
  "kernelspec": {
   "display_name": "Python 3 (ipykernel)",
   "language": "python",
   "name": "python3"
  },
  "language_info": {
   "codemirror_mode": {
    "name": "ipython",
    "version": 3
   },
   "file_extension": ".py",
   "mimetype": "text/x-python",
   "name": "python",
   "nbconvert_exporter": "python",
   "pygments_lexer": "ipython3",
   "version": "3.10.16"
  }
 },
 "nbformat": 4,
 "nbformat_minor": 5
}
